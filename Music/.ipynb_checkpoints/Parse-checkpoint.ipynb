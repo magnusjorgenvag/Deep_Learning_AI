{
 "cells": [
  {
   "cell_type": "code",
   "execution_count": 2,
   "id": "05436ebf",
   "metadata": {},
   "outputs": [],
   "source": [
    "import music21\n",
    "from music21 import *"
   ]
  },
  {
   "cell_type": "code",
   "execution_count": 3,
   "id": "68782b3e",
   "metadata": {},
   "outputs": [],
   "source": [
    "import os\n",
    "data_dir = 'data/working/example-parametric-note'\n",
    "os.makedirs(data_dir, exist_ok=True)"
   ]
  },
  {
   "cell_type": "code",
   "execution_count": 4,
   "id": "242ae901",
   "metadata": {},
   "outputs": [
    {
     "data": {
      "text/plain": [
       "'data/working/example-parametric-note/sBach.midi'"
      ]
     },
     "execution_count": 4,
     "metadata": {},
     "output_type": "execute_result"
    }
   ],
   "source": [
    "\n",
    "sBach = corpus.parse('weber/concertino_clarinet.mxl')\n",
    "sBach.write('midi', data_dir + '/sBach.midi')"
   ]
  },
  {
   "cell_type": "code",
   "execution_count": null,
   "id": "5f5efa6a",
   "metadata": {},
   "outputs": [],
   "source": []
  },
  {
   "cell_type": "code",
   "execution_count": null,
   "id": "2f3db8e1",
   "metadata": {},
   "outputs": [],
   "source": [
    "cb = corpus.search('mozart')\n",
    "cb\n",
    "folk = cb[3].parse()\n",
    "folk.write('midi', data_dir + '/folk.midi')"
   ]
  },
  {
   "cell_type": "code",
   "execution_count": null,
   "id": "8fed7fb7",
   "metadata": {},
   "outputs": [],
   "source": []
  }
 ],
 "metadata": {
  "kernelspec": {
   "display_name": "Python 3 (ipykernel)",
   "language": "python",
   "name": "python3"
  },
  "language_info": {
   "codemirror_mode": {
    "name": "ipython",
    "version": 3
   },
   "file_extension": ".py",
   "mimetype": "text/x-python",
   "name": "python",
   "nbconvert_exporter": "python",
   "pygments_lexer": "ipython3",
   "version": "3.10.9"
  }
 },
 "nbformat": 4,
 "nbformat_minor": 5
}
