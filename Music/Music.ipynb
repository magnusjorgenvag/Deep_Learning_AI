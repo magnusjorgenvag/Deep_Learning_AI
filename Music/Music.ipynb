{
 "cells": [
  {
   "cell_type": "code",
   "execution_count": 32,
   "id": "4a2a81b9",
   "metadata": {},
   "outputs": [],
   "source": [
    "import music21\n",
    "\n",
    "from music21.chord import Chord\n",
    "from music21.duration import Duration\n",
    "from music21.instrument import Instrument\n",
    "from music21.note import Note, Rest\n",
    "from music21.stream import Stream\n",
    "from music21.tempo import MetronomeMark\n",
    "from music21.volume import Volume"
   ]
  },
  {
   "cell_type": "code",
   "execution_count": 33,
   "id": "34264d04",
   "metadata": {},
   "outputs": [],
   "source": [
    "import os\n",
    "data_dir = 'data/working/example-parametric-note'\n",
    "os.makedirs(data_dir, exist_ok=True)"
   ]
  },
  {
   "cell_type": "code",
   "execution_count": 34,
   "id": "f83be888",
   "metadata": {},
   "outputs": [
    {
     "data": {
      "text/plain": [
       "<music21.note.Note C>"
      ]
     },
     "execution_count": 34,
     "metadata": {},
     "output_type": "execute_result"
    }
   ],
   "source": [
    "Note('C')"
   ]
  },
  {
   "cell_type": "code",
   "execution_count": 54,
   "id": "e5517f69",
   "metadata": {},
   "outputs": [],
   "source": [
    "s = Stream([MetronomeMark(number=120), Note(midi=62, duration=Duration(1)),Note(midi=50, duration=Duration(1)),Note(midi=73, duration=Duration(1)),Note(midi=74, duration=Duration(1)), Note(midi=75, duration=Duration(2)), Note(midi=76, duration=Duration(2.5)), Note(midi=77, duration=Duration(4))])"
   ]
  },
  {
   "cell_type": "code",
   "execution_count": 55,
   "id": "82f14faa",
   "metadata": {},
   "outputs": [
    {
     "data": {
      "text/plain": [
       "'data/working/example-parametric-note/c.midi'"
      ]
     },
     "execution_count": 55,
     "metadata": {},
     "output_type": "execute_result"
    }
   ],
   "source": [
    "s.write('midi', data_dir + '/c.midi')"
   ]
  },
  {
   "cell_type": "code",
   "execution_count": 9,
   "id": "c4743e74",
   "metadata": {},
   "outputs": [],
   "source": [
    "def describe_note(note):\n",
    "    p = note.pitch\n",
    "    print(note)\n",
    "    print('pitch:', note.pitch)\n",
    "    print('duration:', note.duration)\n",
    "    print('name:', p.name)\n",
    "    print('full name:', p.fullName)\n",
    "    print('pitch class:', p.pitchClass)\n",
    "    print('octave:', p.octave)\n",
    "    print('frequency', p.frequency, 'Hz')\n",
    "    print('midi:', p.midi)\n",
    "    print('pitch space:', p.ps) # like MIDI, but floating point"
   ]
  },
  {
   "cell_type": "code",
   "execution_count": 21,
   "id": "02141cf6",
   "metadata": {},
   "outputs": [
    {
     "name": "stdout",
     "output_type": "stream",
     "text": [
      "<music21.note.Note C>\n",
      "pitch: C4\n",
      "duration: <music21.duration.Duration 1.0>\n",
      "name: C\n",
      "full name: C in octave 4\n",
      "pitch class: 0\n",
      "octave: 4\n",
      "frequency 261.6255653005985 Hz\n",
      "midi: 60\n",
      "pitch space: 60.0\n"
     ]
    }
   ],
   "source": [
    "n = Note('C4')\n",
    "describe_note(n)"
   ]
  },
  {
   "cell_type": "code",
   "execution_count": 24,
   "id": "6b7cf261",
   "metadata": {},
   "outputs": [
    {
     "name": "stdout",
     "output_type": "stream",
     "text": [
      "<music21.note.Note B>\n",
      "pitch: B4\n",
      "duration: <music21.duration.Duration 1.0>\n",
      "name: B\n",
      "full name: B in octave 4\n",
      "pitch class: 11\n",
      "octave: 4\n",
      "frequency 493.8833012561241 Hz\n",
      "midi: 71\n",
      "pitch space: 71.0\n"
     ]
    }
   ],
   "source": [
    "describe_note(Note(midi=71))"
   ]
  },
  {
   "cell_type": "code",
   "execution_count": 43,
   "id": "abb9d50e",
   "metadata": {},
   "outputs": [],
   "source": [
    "def make_instrument(id):\n",
    "    i = Instrument()\n",
    "    i.midiProgram = id\n",
    "    return i\n",
    "\n",
    "def chord_with_volume(chord, volume):\n",
    "    chord.volume = Volume(velocityScalar=volume)\n",
    "    return chord\n",
    "\n",
    "def generate_single_note(midi_number, midi_instrument=0, volume=1.0, duration=1.0, tempo=120):\n",
    "    \"\"\"\n",
    "    Generates a stream containing a single note with given parameters.\n",
    "    midi_number - MIDI note number, 0 to 127\n",
    "    midi_instrument - MIDI intrument number, 0 to 127\n",
    "    duration - floating point number (in quarter note lengths)\n",
    "    volume - 0.0 to 1.0\n",
    "    tempo - number of quarter notes per minute (eg. 120)\n",
    "\n",
    "    Note that there's a quarter note rest at the beginning and at the end.\n",
    "    \"\"\"\n",
    "    return Stream([\n",
    "        MetronomeMark(number=tempo),\n",
    "        make_instrument(midi_instrument),\n",
    "        chord_with_volume(Chord([\n",
    "            Note(midi=midi_number, duration=Duration(duration))\n",
    "        ]), volume)\n",
    "    ])"
   ]
  },
  {
   "cell_type": "code",
   "execution_count": 46,
   "id": "e81e3d85",
   "metadata": {},
   "outputs": [
    {
     "data": {
      "text/plain": [
       "'data/working/example-parametric-note/sequence_separated.midi'"
      ]
     },
     "execution_count": 46,
     "metadata": {},
     "output_type": "execute_result"
    }
   ],
   "source": [
    "s = Stream()\n",
    "s.append(make_instrument(50))\n",
    "s.append(Note(midi=60))\n",
    "s.append(Note(midi=64))\n",
    "s.append(Note(midi=67))\n",
    "s.write('midi', data_dir + '/sequence_separated.midi')"
   ]
  },
  {
   "cell_type": "code",
   "execution_count": 48,
   "id": "d4a1bacc",
   "metadata": {},
   "outputs": [
    {
     "data": {
      "text/plain": [
       "'data/working/example-parametric-note/sequence_separated.midi'"
      ]
     },
     "execution_count": 48,
     "metadata": {},
     "output_type": "execute_result"
    }
   ],
   "source": [
    "s = Stream()\n",
    "s.append(make_instrument(50))\n",
    "s.append(Note(midi=60))\n",
    "s.append(Rest(duration=Duration(2.0)))\n",
    "s.append(Note(midi=64))\n",
    "s.append(Rest(duration=Duration(2.0)))\n",
    "s.append(Note(midi=67))\n",
    "s.write('midi', data_dir + '/sequence_separated.midi')"
   ]
  },
  {
   "cell_type": "code",
   "execution_count": 50,
   "id": "c8fe4601",
   "metadata": {},
   "outputs": [],
   "source": [
    "from music21 import *\n",
    "note1 = note.Note(\"C4\")\n",
    "note1.duration.type = 'half'\n",
    "note2 = note.Note(\"F#4\")\n",
    "note3 = note.Note(\"B-2\")\n",
    "\n",
    "stream1 = stream.Stream()\n",
    "stream1.id = 'some notes'\n",
    "stream1.append(note1)\n",
    "stream1.append(note2)\n",
    "stream1.append(note3)\n",
    "\n",
    "biggerStream = stream.Stream()\n",
    "note2 = note.Note(\"D#5\")\n",
    "biggerStream.insert(0, note2)\n",
    "biggerStream.append(stream1)"
   ]
  },
  {
   "cell_type": "code",
   "execution_count": 51,
   "id": "cc09f0db",
   "metadata": {},
   "outputs": [
    {
     "data": {
      "text/plain": [
       "'data/working/example-parametric-note/sequence_separated.midi'"
      ]
     },
     "execution_count": 51,
     "metadata": {},
     "output_type": "execute_result"
    }
   ],
   "source": [
    "biggerStream.write('midi', data_dir + '/sequence_separated.midi')"
   ]
  },
  {
   "cell_type": "code",
   "execution_count": 52,
   "id": "0956defa",
   "metadata": {},
   "outputs": [],
   "source": [
    "sBach = corpus.parse('bach/bwv57.8')"
   ]
  },
  {
   "cell_type": "code",
   "execution_count": 53,
   "id": "a693626f",
   "metadata": {},
   "outputs": [
    {
     "data": {
      "text/plain": [
       "'data/working/example-parametric-note/sequence_separated.midi'"
      ]
     },
     "execution_count": 53,
     "metadata": {},
     "output_type": "execute_result"
    }
   ],
   "source": [
    "measureStack = sBach.measures(2, 3)\n",
    "measureStack.write('midi', data_dir + '/sequence_separated.midi')"
   ]
  },
  {
   "cell_type": "code",
   "execution_count": null,
   "id": "c5b42418",
   "metadata": {},
   "outputs": [],
   "source": []
  }
 ],
 "metadata": {
  "kernelspec": {
   "display_name": "Python 3 (ipykernel)",
   "language": "python",
   "name": "python3"
  },
  "language_info": {
   "codemirror_mode": {
    "name": "ipython",
    "version": 3
   },
   "file_extension": ".py",
   "mimetype": "text/x-python",
   "name": "python",
   "nbconvert_exporter": "python",
   "pygments_lexer": "ipython3",
   "version": "3.10.9"
  }
 },
 "nbformat": 4,
 "nbformat_minor": 5
}
